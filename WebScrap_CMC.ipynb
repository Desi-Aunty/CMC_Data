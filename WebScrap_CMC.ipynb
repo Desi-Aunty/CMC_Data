{
 "cells": [
  {
   "cell_type": "code",
   "execution_count": 1,
   "metadata": {
    "collapsed": true
   },
   "outputs": [],
   "source": [
    "import json\n",
    "import pandas as pd\n",
    "import urllib.request\n",
    "from pprint import pprint\n",
    "import datetime\n",
    "import time"
   ]
  },
  {
   "cell_type": "code",
   "execution_count": 34,
   "metadata": {
    "collapsed": true
   },
   "outputs": [],
   "source": [
    "CMC_data_last = pd.read_json(\"https://api.coinmarketcap.com/v1/ticker\")\n",
    "CMC_data_last = CMC_data_last[[\"rank\", \"name\", \"price_usd\", \"price_btc\", \"24h_volume_usd\", \"percent_change_1h\", \"percent_change_24h\"]]\n",
    "CMC_data_last[\"time\"] = datetime.datetime.now().strftime('%Y-%m-%d %H:%M:%S')\n",
    "CMC_data_last_price_only = CMC_data_last[[\"rank\", \"name\", \"price_usd\", \"time\"]]\n",
    "CMC_data_30_ago = CMC_data_last_price_only\n",
    "CMC_data_25_ago = CMC_data_last_price_only\n",
    "CMC_data_20_ago = CMC_data_last_price_only\n",
    "CMC_data_15_ago = CMC_data_last_price_only\n",
    "CMC_data_10_ago = CMC_data_last_price_only\n",
    "CMC_data_05_ago = CMC_data_last_price_only"
   ]
  },
  {
   "cell_type": "code",
   "execution_count": 37,
   "metadata": {},
   "outputs": [
    {
     "ename": "KeyboardInterrupt",
     "evalue": "",
     "output_type": "error",
     "traceback": [
      "\u001b[1;31m---------------------------------------------------------------------------\u001b[0m",
      "\u001b[1;31mKeyboardInterrupt\u001b[0m                         Traceback (most recent call last)",
      "\u001b[1;32m<ipython-input-37-23b8648d1bd3>\u001b[0m in \u001b[0;36m<module>\u001b[1;34m()\u001b[0m\n\u001b[0;32m     18\u001b[0m     \u001b[0mCMC_data_last\u001b[0m \u001b[1;33m=\u001b[0m \u001b[0mCMC_data_last\u001b[0m\u001b[1;33m.\u001b[0m\u001b[0mmerge\u001b[0m\u001b[1;33m(\u001b[0m\u001b[0mCMC_data_delta\u001b[0m\u001b[1;33m[\u001b[0m\u001b[1;33m[\u001b[0m\u001b[1;34m\"name\"\u001b[0m\u001b[1;33m,\u001b[0m \u001b[1;34m\"percent_change_05m\"\u001b[0m\u001b[1;33m,\u001b[0m \u001b[1;34m\"percent_change_10m\"\u001b[0m\u001b[1;33m,\u001b[0m \u001b[1;34m\"percent_change_20m\"\u001b[0m\u001b[1;33m,\u001b[0m \u001b[1;34m\"percent_change_30m\"\u001b[0m\u001b[1;33m]\u001b[0m\u001b[1;33m]\u001b[0m\u001b[1;33m,\u001b[0m \u001b[0mon\u001b[0m\u001b[1;33m=\u001b[0m\u001b[1;34m\"name\"\u001b[0m\u001b[1;33m)\u001b[0m\u001b[1;33m\u001b[0m\u001b[0m\n\u001b[0;32m     19\u001b[0m \u001b[1;33m\u001b[0m\u001b[0m\n\u001b[1;32m---> 20\u001b[1;33m     \u001b[0mtime\u001b[0m\u001b[1;33m.\u001b[0m\u001b[0msleep\u001b[0m\u001b[1;33m(\u001b[0m\u001b[1;36m10.0\u001b[0m \u001b[1;33m-\u001b[0m \u001b[1;33m(\u001b[0m\u001b[1;33m(\u001b[0m\u001b[0mtime\u001b[0m\u001b[1;33m.\u001b[0m\u001b[0mtime\u001b[0m\u001b[1;33m(\u001b[0m\u001b[1;33m)\u001b[0m \u001b[1;33m-\u001b[0m \u001b[0mstarttime\u001b[0m\u001b[1;33m)\u001b[0m \u001b[1;33m%\u001b[0m \u001b[1;36m10.0\u001b[0m\u001b[1;33m)\u001b[0m\u001b[1;33m)\u001b[0m\u001b[1;33m\u001b[0m\u001b[0m\n\u001b[0m",
      "\u001b[1;31mKeyboardInterrupt\u001b[0m: "
     ]
    }
   ],
   "source": [
    "starttime=time.time()\n",
    "while True:\n",
    "    CMC_data_30_ago = CMC_data_25_ago\n",
    "    CMC_data_25_ago = CMC_data_20_ago\n",
    "    CMC_data_20_ago = CMC_data_15_ago\n",
    "    CMC_data_15_ago = CMC_data_10_ago\n",
    "    CMC_data_10_ago = CMC_data_05_ago\n",
    "    CMC_data_05_ago = CMC_data_last_price_only\n",
    "    CMC_data_last = pd.read_json(\"https://api.coinmarketcap.com/v1/ticker\")\n",
    "    CMC_data_last = CMC_data_last[[\"rank\", \"name\", \"price_usd\", \"price_btc\", \"24h_volume_usd\", \"percent_change_1h\", \"percent_change_24h\"]]\n",
    "    CMC_data_last[\"time\"] = datetime.datetime.now().strftime('%Y-%m-%d %H:%M:%S')\n",
    "    CMC_data_last_price_only = CMC_data_last[[\"rank\", \"name\", \"price_usd\", \"time\"]]\n",
    "    CMC_data_delta = CMC_data_last_price_only.rename(columns = {'price_usd':'price_00'}).merge(CMC_data_05_ago[[\"name\", \"price_usd\"]].rename(columns = {'price_usd':'price_05'}), on=\"name\").merge(CMC_data_10_ago[[\"name\", \"price_usd\"]].rename(columns = {'price_usd':'price_10'}), on=\"name\").merge(CMC_data_20_ago[[\"name\", \"price_usd\"]].rename(columns = {'price_usd':'price_20'}), on=\"name\").merge(CMC_data_30_ago[[\"name\", \"price_usd\"]].rename(columns = {'price_usd':'price_30'}), on=\"name\")\n",
    "    CMC_data_delta[\"percent_change_05m\"] = round((CMC_data_delta[\"price_00\"] - CMC_data_delta[\"price_05\"])/(CMC_data_delta[\"price_05\"]),5)*100\n",
    "    CMC_data_delta[\"percent_change_10m\"] = round((CMC_data_delta[\"price_00\"] - CMC_data_delta[\"price_10\"])/(CMC_data_delta[\"price_10\"]),5)*100\n",
    "    CMC_data_delta[\"percent_change_20m\"] = round((CMC_data_delta[\"price_00\"] - CMC_data_delta[\"price_20\"])/(CMC_data_delta[\"price_20\"]),5)*100\n",
    "    CMC_data_delta[\"percent_change_30m\"] = round((CMC_data_delta[\"price_00\"] - CMC_data_delta[\"price_30\"])/(CMC_data_delta[\"price_30\"]),5)*100\n",
    "    CMC_data_last = CMC_data_last.merge(CMC_data_delta[[\"name\", \"percent_change_05m\", \"percent_change_10m\", \"percent_change_20m\", \"percent_change_30m\"]], on=\"name\")\n",
    "\n",
    "    time.sleep(10.0 - ((time.time() - starttime) % 10.0))"
   ]
  },
  {
   "cell_type": "code",
   "execution_count": null,
   "metadata": {
    "collapsed": true
   },
   "outputs": [],
   "source": [
    "CMC_data_last[CMC_data_last[\"24h_volume_usd\"]>1000000].sort_values(by = \"percent_change_05m\", ascending=False)"
   ]
  }
 ],
 "metadata": {
  "kernelspec": {
   "display_name": "Python 3",
   "language": "python",
   "name": "python3"
  },
  "language_info": {
   "codemirror_mode": {
    "name": "ipython",
    "version": 3
   },
   "file_extension": ".py",
   "mimetype": "text/x-python",
   "name": "python",
   "nbconvert_exporter": "python",
   "pygments_lexer": "ipython3",
   "version": "3.6.1"
  }
 },
 "nbformat": 4,
 "nbformat_minor": 2
}
